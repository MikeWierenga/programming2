{
 "cells": [
  {
   "cell_type": "code",
   "execution_count": 1,
   "id": "b3cfe1c1",
   "metadata": {},
   "outputs": [],
   "source": [
    "import dask.dataframe as dd\n",
    "\n",
    "import os"
   ]
  },
  {
   "cell_type": "code",
   "execution_count": 2,
   "id": "e84ffbbf",
   "metadata": {},
   "outputs": [],
   "source": [
    "os.getcwd()\n",
    "os.chdir('/')\n"
   ]
  },
  {
   "cell_type": "code",
   "execution_count": 3,
   "id": "53e4fe64",
   "metadata": {},
   "outputs": [
    {
     "data": {
      "text/plain": [
       "'/'"
      ]
     },
     "execution_count": 3,
     "metadata": {},
     "output_type": "execute_result"
    }
   ],
   "source": [
    "os.getcwd()"
   ]
  },
  {
   "cell_type": "code",
   "execution_count": 4,
   "id": "8ff8aa5d",
   "metadata": {},
   "outputs": [],
   "source": [
    "#according to the documentation this file is tab delimited format\n",
    "names = ['Protein_accession',\n",
    "    'Sequence_MD5_',\n",
    "    'Sequence_length',\n",
    "    'Analysis',\n",
    "    'Signature_accession',\n",
    "    'Signature_description',\n",
    "    'Start_location',\n",
    "    'Stop_location',\n",
    "    'Score',\n",
    "    'Status',\n",
    "    'Date',\n",
    "    'InterPro_accession',\n",
    "    'InterPro_description',\n",
    "    'GO_annotations',\n",
    "    'Pathways_annotations']\n",
    "dtypes = {\n",
    "    'Protein_accession':'string',\n",
    "    'Sequence_MD5_': 'string',\n",
    "    'Sequence_length': int,\n",
    "    'Analysis': 'string',\n",
    "    'Signature_accession': 'string',\n",
    "    'Signature_description': 'string',\n",
    "    'Start_location': int,\n",
    "    'Stop_location': int,\n",
    "    'Score': 'object',\n",
    "    'Status': 'string',\n",
    "    'Date': 'string',\n",
    "    'InterPro_accession':'string',\n",
    "    'InterPro_description':'string',\n",
    "    'GO_annotations':'string',\n",
    "    'Pathways_annotations':'string'\n",
    "}\n",
    "\n",
    "\n",
    "ddf = dd.read_table('/data/dataprocessing/interproscan/all_bacilli.tsv', sep='\\t', header=None, names=names, dtype=dtypes).get_partition(0)"
   ]
  },
  {
   "attachments": {},
   "cell_type": "markdown",
   "id": "48f48039",
   "metadata": {},
   "source": [
    "The TSV format presents the match data in columns as follows:\n",
    "\n",
    "    Protein accession (e.g. P51587)\n",
    "    Sequence MD5 digest (e.g. 14086411a2cdf1c4cba63020e1622579)\n",
    "    Sequence length (e.g. 3418)\n",
    "    Analysis (e.g. Pfam / PRINTS / Gene3D)\n",
    "    Signature accession (e.g. PF09103 / G3DSA:2.40.50.140)\n",
    "    Signature description (e.g. BRCA2 repeat profile)\n",
    "    Start location\n",
    "    Stop location\n",
    "    Score - is the e-value (or score) of the match reported by member database method (e.g. 3.1E-52)\n",
    "    Status - is the status of the match (T: true)\n",
    "    Date - is the date of the run\n",
    "    InterPro annotations - accession (e.g. IPR002093)\n",
    "    InterPro annotations - description (e.g. BRCA2 repeat)\n",
    "    (GO annotations (e.g. GO:0005515) - optional column; only displayed if –goterms option is switched on)\n",
    "    (Pathways annotations (e.g. REACT_71) - optional column; only displayed if –pathways option is switched on)\n"
   ]
  },
  {
   "cell_type": "code",
   "execution_count": 5,
   "id": "ca719b17",
   "metadata": {},
   "outputs": [
    {
     "data": {
      "text/plain": [
       "Index(['Protein_accession', 'Sequence_MD5_', 'Sequence_length', 'Analysis',\n",
       "       'Signature_accession', 'Signature_description', 'Start_location',\n",
       "       'Stop_location', 'Score', 'Status', 'Date', 'InterPro_accession',\n",
       "       'InterPro_description', 'GO_annotations', 'Pathways_annotations'],\n",
       "      dtype='object')"
      ]
     },
     "execution_count": 5,
     "metadata": {},
     "output_type": "execute_result"
    }
   ],
   "source": [
    "ddf.columns"
   ]
  },
  {
   "attachments": {},
   "cell_type": "markdown",
   "id": "b32a3f9d",
   "metadata": {},
   "source": [
    "# 1. How many distinct protein annotations are found in the dataset? I.e. how many distanct intoPro numbers are there"
   ]
  },
  {
   "cell_type": "code",
   "execution_count": 6,
   "id": "f56a5086",
   "metadata": {},
   "outputs": [
    {
     "data": {
      "text/plain": [
       "3208"
      ]
     },
     "execution_count": 6,
     "metadata": {},
     "output_type": "execute_result"
    }
   ],
   "source": [
    "# -1 to remove the nan value in this column\n",
    "len(ddf.InterPro_accession.unique().compute()) -1"
   ]
  },
  {
   "attachments": {},
   "cell_type": "markdown",
   "id": "385f3a9c",
   "metadata": {},
   "source": [
    "# 2. How many annotations does a protein have on average?"
   ]
  },
  {
   "cell_type": "code",
   "execution_count": 7,
   "id": "41b725d8",
   "metadata": {},
   "outputs": [
    {
     "data": {
      "text/plain": [
       "2.924808644754615"
      ]
     },
     "execution_count": 7,
     "metadata": {},
     "output_type": "execute_result"
    }
   ],
   "source": [
    "ddf2 = ddf[['Protein_accession', 'InterPro_description']]\n",
    "ddf2 = ddf2[ddf2 != '-']\n",
    "\n",
    "ddf2.groupby('Protein_accession')['InterPro_description'].nunique().mean().compute()"
   ]
  },
  {
   "attachments": {},
   "cell_type": "markdown",
   "id": "b5993b7f",
   "metadata": {},
   "source": [
    "# 3. What is the most common GO Term found?"
   ]
  },
  {
   "cell_type": "code",
   "execution_count": 28,
   "id": "57cac2ef",
   "metadata": {},
   "outputs": [
    {
     "data": {
      "text/plain": [
       "[('GO:0005524', 526),\n",
       " ('GO:0003677', 431),\n",
       " ('GO:0006355', 408),\n",
       " ('GO:0016020', 394),\n",
       " ('GO:0016021', 316),\n",
       " ('GO:0055085', 213),\n",
       " ('GO:0003700', 212),\n",
       " ('GO:0003824', 204),\n",
       " ('GO:0016491', 182),\n",
       " ('GO:0005515', 164)]"
      ]
     },
     "execution_count": 28,
     "metadata": {},
     "output_type": "execute_result"
    }
   ],
   "source": [
    "from collections import Counter\n",
    "ddf3 = ddf.GO_annotations\n",
    "ddf3 = ddf3.dropna()\n",
    "ddf3 = ddf3[ddf3 != '-']\n",
    "summation = ddf3.str.split('|').sum().compute()\n",
    "test = Counter(summation)\n",
    "sorted(test.items(), key=lambda x:x[1], reverse=True)[:10]"
   ]
  },
  {
   "attachments": {},
   "cell_type": "markdown",
   "id": "df46cc2a",
   "metadata": {},
   "source": [
    "# 4. What is the average size of an InterPRO feature found in the dataset?"
   ]
  },
  {
   "cell_type": "code",
   "execution_count": 37,
   "id": "dc55ade2",
   "metadata": {},
   "outputs": [
    {
     "data": {
      "text/plain": [
       "Sequence_length    1358.930486\n",
       "dtype: float64"
      ]
     },
     "execution_count": 37,
     "metadata": {},
     "output_type": "execute_result"
    }
   ],
   "source": [
    "ddf4 = ddf[['InterPro_accession', 'Sequence_length']]\n",
    "ddf4 = ddf4[ddf4 != '-']\n",
    "ddf4 = ddf4.dropna()\n",
    "ddf4.groupby('InterPro_accession').sum().mean().compute()"
   ]
  },
  {
   "attachments": {},
   "cell_type": "markdown",
   "id": "9662f6a7",
   "metadata": {},
   "source": [
    "# 5. What is the top 10 most common InterPRO features?\n"
   ]
  },
  {
   "cell_type": "code",
   "execution_count": 38,
   "id": "b13fa3dd",
   "metadata": {},
   "outputs": [
    {
     "data": {
      "text/plain": [
       "InterPro_accession\n",
       "IPR027417    258\n",
       "IPR002347    116\n",
       "IPR003439    104\n",
       "IPR000182     92\n",
       "IPR036388     84\n",
       "IPR036259     80\n",
       "IPR001789     66\n",
       "IPR003593     65\n",
       "IPR029063     62\n",
       "IPR000515     60\n",
       "Name: count, dtype: Int64"
      ]
     },
     "execution_count": 38,
     "metadata": {},
     "output_type": "execute_result"
    }
   ],
   "source": [
    "ddf5 = ddf.InterPro_accession\n",
    "ddf5 = ddf5[ddf5 != '-']\n",
    "# ddf5.head()\n",
    "ddf5.value_counts().compute().head(10)"
   ]
  },
  {
   "attachments": {},
   "cell_type": "markdown",
   "id": "bd7e6fb9",
   "metadata": {},
   "source": [
    "# 6. If you select InterPRO features that are almost the same size (within 90-100%) as the protein itself, what is the top10 then?"
   ]
  },
  {
   "cell_type": "code",
   "execution_count": 62,
   "id": "16f1dbc2",
   "metadata": {},
   "outputs": [
    {
     "data": {
      "text/plain": [
       "InterPro_accession\n",
       "IPR036259    51\n",
       "IPR027417    44\n",
       "IPR000182    32\n",
       "IPR029068    30\n",
       "IPR020846    26\n",
       "IPR016181    24\n",
       "IPR029058    23\n",
       "IPR036291    23\n",
       "IPR036388    22\n",
       "IPR029063    19\n",
       "Name: count, dtype: Int64"
      ]
     },
     "execution_count": 62,
     "metadata": {},
     "output_type": "execute_result"
    }
   ],
   "source": [
    "ddf6 = ddf[['InterPro_accession', 'Sequence_length', 'Start_location', 'Stop_location']].compute()\n",
    "ddf6 =ddf6[ddf6.InterPro_accession != '-']\n",
    "ddf6 = ddf6[ddf6.Sequence_length * 0.9 <  (ddf6.Stop_location - ddf6.Start_location)]\n",
    "ddf6_result = ddf6.InterPro_accession.value_counts()[:10]\n",
    "ddf6_result"
   ]
  },
  {
   "attachments": {},
   "cell_type": "markdown",
   "id": "ff390aaa",
   "metadata": {},
   "source": [
    "# 7. If you look at those features which also have textual annotation, what is the top 10 most common word found in that annotation?"
   ]
  },
  {
   "cell_type": "code",
   "execution_count": 75,
   "id": "32ca6acc",
   "metadata": {},
   "outputs": [
    {
     "data": {
      "text/plain": [
       "294"
      ]
     },
     "execution_count": 75,
     "metadata": {},
     "output_type": "execute_result"
    }
   ],
   "source": [
    "ddf6_result.values.sum()"
   ]
  },
  {
   "cell_type": "code",
   "execution_count": 97,
   "id": "b9f99c38",
   "metadata": {},
   "outputs": [
    {
     "data": {
      "text/plain": [
       "[('superfamily', 584),\n",
       " ('protein', 506),\n",
       " ('domain', 451),\n",
       " ('family', 126),\n",
       " ('transporter', 110),\n",
       " ('Ribosomal', 107),\n",
       " ('subunit', 98),\n",
       " ('hydrolase', 93),\n",
       " ('synthase', 86),\n",
       " ('Protein', 81)]"
      ]
     },
     "execution_count": 97,
     "metadata": {},
     "output_type": "execute_result"
    }
   ],
   "source": [
    "ddf7 = ddf[['InterPro_accession', 'InterPro_description', 'Sequence_length', 'Start_location', 'Stop_location']].compute()\n",
    "ddf7 =ddf7[ddf7.InterPro_accession != '-']\n",
    "ddf7 = ddf7[ddf7.Sequence_length * 0.9 <  (ddf7.Stop_location - ddf7.Start_location)]\n",
    "words = ddf7.InterPro_description.str.split(' ').sum()\n",
    "test = Counter(words)\n",
    "most_common = sorted(test.items(), key=lambda x:x[1], reverse=True)[:10]\n",
    "most_common"
   ]
  },
  {
   "attachments": {},
   "cell_type": "markdown",
   "id": "11cfb260",
   "metadata": {},
   "source": [
    "# 8. And the top 10 least common?"
   ]
  },
  {
   "cell_type": "code",
   "execution_count": 98,
   "id": "8fee795c",
   "metadata": {},
   "outputs": [
    {
     "data": {
      "text/plain": [
       "[('R', 1),\n",
       " ('Peptidyl-arginine', 1),\n",
       " ('deiminase,', 1),\n",
       " ('Porphyromonas-type', 1),\n",
       " ('Nucleotide-binding', 1),\n",
       " ('plait', 1),\n",
       " ('L23/L15e', 1),\n",
       " ('beta-ketoacyl', 1),\n",
       " (\"3'-terminal\", 1),\n",
       " ('cyclase/enolpyruvate', 1)]"
      ]
     },
     "execution_count": 98,
     "metadata": {},
     "output_type": "execute_result"
    }
   ],
   "source": [
    "least_common = sorted(test.items(), key=lambda x:x[1], reverse=False)[:10]\n",
    "least_common"
   ]
  },
  {
   "attachments": {},
   "cell_type": "markdown",
   "id": "2d1fc00e",
   "metadata": {},
   "source": [
    "# 9. Combining your answers for Q6 and Q7, what are the 10 most commons words found for the largest InterPRO features?"
   ]
  },
  {
   "cell_type": "code",
   "execution_count": 134,
   "id": "9a3632dc",
   "metadata": {},
   "outputs": [
    {
     "data": {
      "text/plain": [
       "[('subunit', 11),\n",
       " ('DNA', 7),\n",
       " ('DNA-directed', 6),\n",
       " ('RNA', 6),\n",
       " ('helicase', 5),\n",
       " ('polymerase,', 5),\n",
       " ('type', 4),\n",
       " ('AddA', 3),\n",
       " ('helicase,', 2),\n",
       " ('UvrD/REP', 2)]"
      ]
     },
     "execution_count": 134,
     "metadata": {},
     "output_type": "execute_result"
    }
   ],
   "source": [
    "ddf9 = ddf[['InterPro_accession', 'InterPro_description', 'Sequence_length', 'Start_location', 'Stop_location']].compute()\n",
    "ddf9 = ddf9[ddf9.InterPro_accession != '-']\n",
    "ddf9 =  ddf9[ddf9.Sequence_length * 0.9 <  (ddf9.Stop_location - ddf9.Start_location)]\n",
    "\n",
    "ddf9 = ddf9[['InterPro_accession', 'InterPro_description', 'Sequence_length']].sort_values(by='Sequence_length', ascending=False)\n",
    "biggest = ddf9.drop_duplicates(subset=['InterPro_accession']).InterPro_accession[:10]\n",
    "\n",
    "ddf9_words = ddf9[ddf9['InterPro_accession'].isin(biggest)]\n",
    "words = ddf9_words.InterPro_description.str.split(' ').sum()\n",
    "test = Counter(words)\n",
    "most_common = sorted(test.items(), key=lambda x:x[1], reverse=True)[:10]\n",
    "most_common"
   ]
  },
  {
   "attachments": {},
   "cell_type": "markdown",
   "id": "6b535211",
   "metadata": {},
   "source": [
    "# 10. What is the coefficient of correlation () between the size of the protein and the number of features found?"
   ]
  },
  {
   "cell_type": "code",
   "execution_count": 173,
   "id": "90d600b4",
   "metadata": {},
   "outputs": [
    {
     "data": {
      "text/plain": [
       "3209"
      ]
     },
     "execution_count": 173,
     "metadata": {},
     "output_type": "execute_result"
    }
   ],
   "source": []
  },
  {
   "cell_type": "code",
   "execution_count": 174,
   "id": "84b55546",
   "metadata": {},
   "outputs": [
    {
     "data": {
      "text/plain": [
       "0.0003371265504680764"
      ]
     },
     "execution_count": 174,
     "metadata": {},
     "output_type": "execute_result"
    }
   ],
   "source": [
    "import numpy as np\n",
    "# np.corrcoef(ddf.Protein_accession, ddf.Sequence_length)\n",
    "test = ddf[['Sequence_length', 'Start_location', 'Stop_location']].compute()\n",
    "features = len(ddf.InterPro_accession.unique())\n",
    "test['features'] = test.Stop_location - test.Start_location\n",
    "n = len(test)\n",
    "\n",
    "sumX = np.sum(test.Sequence_length)\n",
    "sumY = np.sum(features)\n",
    "sumXY = np.sum(test.Sequence_length * features)\n",
    "sumXproduct = np.sum(test.Sequence_length**2)\n",
    "sumYproduct = np.sum(features**2)\n",
    "r = (n * sumXY  - (sumX * sumY))\n",
    "test = np.sqrt(n * sumXproduct - sumX**2) * (n * sumYproduct - sumY**2)\n",
    "(r/test)"
   ]
  }
 ],
 "metadata": {
  "kernelspec": {
   "display_name": "Python 3",
   "language": "python",
   "name": "python3"
  },
  "language_info": {
   "codemirror_mode": {
    "name": "ipython",
    "version": 3
   },
   "file_extension": ".py",
   "mimetype": "text/x-python",
   "name": "python",
   "nbconvert_exporter": "python",
   "pygments_lexer": "ipython3",
   "version": "3.9.2"
  }
 },
 "nbformat": 4,
 "nbformat_minor": 5
}
