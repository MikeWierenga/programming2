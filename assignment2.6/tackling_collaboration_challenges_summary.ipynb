{
 "cells": [
  {
   "attachments": {},
   "cell_type": "markdown",
   "metadata": {},
   "source": [
    "# Tackling Collaboration Challenges in the Development of ML-Enabled Systems"
   ]
  },
  {
   "attachments": {},
   "cell_type": "markdown",
   "metadata": {},
   "source": [
    "Collaboration on complex development projects almost always presents challenges. With machine learning becomming more essential in project there are new set of challenges. a challenge is getting different people with different expertise to work together in harmony."
   ]
  },
  {
   "cell_type": "markdown",
   "metadata": {
    "vscode": {
     "languageId": "plaintext"
    }
   },
   "source": [
    "# The current state of the practices and its limits\n",
    "\n",
    "In a team developers normally divide the work into small components so that they can work indipendently until all the components are ready for integration.\n",
    "\n",
    "Challenges to collaboration occur, however, when team members cannot easily and informally communicate or when the work requires interdisciplinary colleboration. difference in experience, professional backgrounds, and expactations about the system can also pose challenges to effective collaboration in traditional top-down, modular development projects. The answer to these problems can be solved with colleboration methods such as _Waterfall_, _Spiral_, and _Agile_.\n",
    "\n"
   ]
  },
  {
   "cell_type": "markdown",
   "metadata": {},
   "source": [
    "# Framing a research approach around real-world experience in ML-enabled system development\n",
    "\n",
    "this research is split up into 4 steps:\n",
    "- scoping and literature review\n",
    "- interviews\n",
    "- triangulation with literature\n",
    "- validity check\n",
    "\n",
    "The interviews with professionals revealed that the number and types of teams developing ML-enabled systems, their composition, their responsibilities, the power dynamics at play, and the formality of their collaborations varied widely from organization to organization"
   ]
  },
  {
   "cell_type": "markdown",
   "metadata": {},
   "source": [
    "# Navigating the Tensions between product and model requirements\n",
    "\n",
    "- Model first(13 of 28): these teams build the model first and then build the product arround the model.\n",
    "\n",
    "- Product first(13 of 28): these teams start with product development and then develop a model to support it.\n",
    "\n",
    "- Parallel (2 of 28) the model and product teams work in parrallel\n",
    "\n",
    "regardless of the development trajectories applied there are three tensions:\n",
    "\n",
    "* Product requirements require input from the model team\n",
    "* Model development with unclear requirements is common\n",
    "* Provided model requirements rarely go beyond accuracy and data security "
   ]
  },
  {
   "cell_type": "markdown",
   "metadata": {},
   "source": [
    "# Recommendations\n",
    "\n",
    "*     Involve data scientists early in the process.\n",
    "*    Consider adopting a parallel development trajectory for product and model teams.\n",
    "*    Conduct ML training sessions to educate clients and product teams.\n",
    "*    Adopt more formal requirements documentation for both model and product."
   ]
  },
  {
   "cell_type": "code",
   "execution_count": null,
   "metadata": {
    "vscode": {
     "languageId": "plaintext"
    }
   },
   "outputs": [],
   "source": []
  }
 ],
 "metadata": {
  "language_info": {
   "name": "python"
  },
  "orig_nbformat": 4
 },
 "nbformat": 4,
 "nbformat_minor": 2
}
